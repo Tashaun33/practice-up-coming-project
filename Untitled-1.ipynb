{
 "cells": [
  {
   "cell_type": "code",
   "execution_count": null,
   "id": "426e1cb2",
   "metadata": {},
   "outputs": [],
   "source": [
    "hi this is a practice drill ready for a real oppourtunity"
   ]
  },
  {
   "cell_type": "code",
   "execution_count": 3,
   "id": "e9ec93f2",
   "metadata": {},
   "outputs": [],
   "source": [
    "import numpy as np\n",
    "import pandas as pd\n",
    "import matplotlib.pyplot as plt\n"
   ]
  },
  {
   "cell_type": "markdown",
   "id": "d811a0ee",
   "metadata": {},
   "source": []
  },
  {
   "cell_type": "markdown",
   "id": "a2151e4d",
   "metadata": {},
   "source": []
  },
  {
   "cell_type": "code",
   "execution_count": 2,
   "id": "36e0e1ba",
   "metadata": {},
   "outputs": [
    {
     "name": "stdout",
     "output_type": "stream",
     "text": [
      "a,s,d,f,g,h.j.k.l\n",
      "0,9,8,7,6,5,4,3,2,1\n"
     ]
    }
   ],
   "source": [
    "a= ('a,s,d,f,g,h.j.k.l')\n",
    "print(a)\n",
    "\n",
    "b=('0,9,8,7,6,5,4,3,2,1')\n",
    "print(b) \n"
   ]
  }
 ],
 "metadata": {
  "kernelspec": {
   "display_name": "Python 3",
   "language": "python",
   "name": "python3"
  },
  "language_info": {
   "codemirror_mode": {
    "name": "ipython",
    "version": 3
   },
   "file_extension": ".py",
   "mimetype": "text/x-python",
   "name": "python",
   "nbconvert_exporter": "python",
   "pygments_lexer": "ipython3",
   "version": "3.12.8"
  }
 },
 "nbformat": 4,
 "nbformat_minor": 5
}
