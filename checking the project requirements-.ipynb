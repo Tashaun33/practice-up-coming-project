{
 "cells": [
  {
   "cell_type": "code",
   "execution_count": null,
   "id": "9f76588a",
   "metadata": {},
   "outputs": [],
   "source": []
  },
  {
   "cell_type": "markdown",
   "id": "dc12e166",
   "metadata": {},
   "source": [
    "this data set is quite large, so maybe cutting it up in 2 will help, 1 set 2010,,, the other 2011 as the bigger side.\n"
   ]
  },
  {
   "cell_type": "markdown",
   "id": "33c7fc8d",
   "metadata": {},
   "source": [
    "another idea might be to look at country, then unit price then quantity. 1-Map graph  1-linechart 1-bar chart, limit the unit price to £20 or £50 at first, then £55-£100 , then £110- £150 for about 5-10 units in each country, then we can see any trend or value for the same amount of money spent unit  quantity purchased then compare location via country."
   ]
  },
  {
   "cell_type": "markdown",
   "id": "cf630eb2",
   "metadata": {},
   "source": [
    "also there is the time of day per purchase, customer ID , invoice, the AM 2010 and or the PM 2010, Also there is no record of XMAS sales in the data for 2010 that will put sales down with no speiacl deals like 2-for-1 over xmas. no profit for sales during xmas is good marketing so the business doesnt lose any money, for discounts or decutions."
   ]
  },
  {
   "cell_type": "markdown",
   "id": "82ebfe70",
   "metadata": {},
   "source": [
    "from jan 2010 to dec 2010 the sales data has 42'842 increments of recorded data.\n",
    "from jan 2011 to dec 2011 the sales data has 541'910 increments of recorded data.\n",
    "Again now refreshed the 2011 minus the sales record of 2010 gives us 499'068. as in\n",
    "\n",
    "jan 2011 to dec 2011 there were 499'068 sales transactions\n",
    "jan 2010 to dec 2010 there were 42'842 sales transactions"
   ]
  },
  {
   "cell_type": "markdown",
   "id": "8d9320c1",
   "metadata": {},
   "source": [
    "moving on to gleaning data for insight i found on Tableau if i moved the number decimal to fraction s it matched perfectly with unit price. ok then maybe i can get some graphs or charts drawn up"
   ]
  }
 ],
 "metadata": {
  "language_info": {
   "name": "python"
  }
 },
 "nbformat": 4,
 "nbformat_minor": 5
}
