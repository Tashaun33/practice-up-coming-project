{
 "cells": [
  {
   "cell_type": "code",
   "execution_count": null,
   "id": "51fffbbe",
   "metadata": {},
   "outputs": [],
   "source": [
    "another insight and hypoethesis gleaned for and from the data set.--"
   ]
  },
  {
   "cell_type": "markdown",
   "id": "d9724085",
   "metadata": {},
   "source": [
    "1.\tCustomer Behaviour-\tSeasonal or day-of-week trends like i said no sales around xmas in 2010 2 week break and 2011 no sales record after 9th dec-\n",
    "might not be a good idea to use certain strategies around these parts as the is no supporting evidence.\n",
    "\n"
   ]
  },
  {
   "cell_type": "markdown",
   "id": "1461f39a",
   "metadata": {},
   "source": [
    "in the uk there were 151 sales transactions in the hour of 9am until 10am.  dec in 2010\n",
    "the hour of 12.00noon  to 13pm = 421 sales transactions all uk\n",
    "the hour of 16pm untill 17pm = 160 sales transactions all uk\n"
   ]
  },
  {
   "cell_type": "markdown",
   "id": "a298b89a",
   "metadata": {},
   "source": [
    "in 2011 there were 66 sales transaction between 9am -10am not all of them were made in the uk. records show at least 2 other countires Germany and Malta.\n",
    "the hour between 12noon- 13pm = 326 sales transactions all in the uk\n",
    "the hour between 16pm - 17pm = 773 sales transactions the last nine are from France the rest made in the uk"
   ]
  },
  {
   "cell_type": "markdown",
   "id": "05474c49",
   "metadata": {},
   "source": [
    "this type of data comes in like a date in a month 1st year then the same the 2nd year. the season nr xmas, 3 times of the day: morn-am, noon, afternoon-pm\n",
    "part of customer behaviour"
   ]
  },
  {
   "cell_type": "markdown",
   "id": "b5f0f1e7",
   "metadata": {},
   "source": [
    "2010 1/12/= wednesday\n",
    "2011 1/12 = thursday"
   ]
  },
  {
   "cell_type": "markdown",
   "id": "ea189b6d",
   "metadata": {},
   "source": [
    "Seasonality: December sales are significantly higher than other months."
   ]
  },
  {
   "cell_type": "markdown",
   "id": "852d25ac",
   "metadata": {},
   "source": [
    "its been a real creative , agile learning experience,, i can tell ive got best wishes for tommorrow."
   ]
  }
 ],
 "metadata": {
  "kernelspec": {
   "display_name": "Python 3",
   "language": "python",
   "name": "python3"
  },
  "language_info": {
   "codemirror_mode": {
    "name": "ipython",
    "version": 3
   },
   "file_extension": ".py",
   "mimetype": "text/x-python",
   "name": "python",
   "nbconvert_exporter": "python",
   "pygments_lexer": "ipython3",
   "version": "3.12.8"
  }
 },
 "nbformat": 4,
 "nbformat_minor": 5
}
