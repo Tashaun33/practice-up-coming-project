{
 "cells": [
  {
   "cell_type": "code",
   "execution_count": null,
   "id": "51fffbbe",
   "metadata": {},
   "outputs": [],
   "source": [
    "another insight and hypoethesis gleaned for and from the data set.--"
   ]
  },
  {
   "cell_type": "markdown",
   "id": "d9724085",
   "metadata": {},
   "source": [
    "1.\tCustomer Behaviour-\tSeasonal or day-of-week trends like i said no sales around xmas in 2010 2 week break and 2011 no sales record after 9th dec-\n",
    "might not be a good idea to use certain strategies around these parts as the is no supporting evidence.\n",
    "\n"
   ]
  },
  {
   "cell_type": "markdown",
   "id": "1461f39a",
   "metadata": {},
   "source": [
    "in the uk there were 151 sales transactions in the hour of 9am until 10am.  dec in 2010\n",
    "the hour of 12.00noon  to 13pm = 421 sales transactions all uk\n",
    "the hour of 16pm untill 17pm = 160 sales transactions all uk\n"
   ]
  },
  {
   "cell_type": "markdown",
   "id": "a298b89a",
   "metadata": {},
   "source": [
    "in 2011 there were 66 sales transaction between 9am -10am not all of them were made in the uk. records show at least 2 other countires Germany and Malta.\n",
    "the hour between 12noon- 13pm = 326 sales transactions all in the uk\n",
    "the hour between 16pm - 17pm = 773 sales transactions the last nine are from France the rest made in the uk"
   ]
  },
  {
   "cell_type": "markdown",
   "id": "05474c49",
   "metadata": {},
   "source": []
  }
 ],
 "metadata": {
  "language_info": {
   "name": "python"
  }
 },
 "nbformat": 4,
 "nbformat_minor": 5
}
